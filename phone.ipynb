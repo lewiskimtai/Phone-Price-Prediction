{
  "cells": [
    {
      "cell_type": "markdown",
      "metadata": {
        "id": "7XXrtNw46_-n"
      },
      "source": [
        "#### Import necessary Libraries"
      ]
    },
    {
      "cell_type": "code",
      "execution_count": null,
      "metadata": {
        "id": "F3SHDVKY6_-x"
      },
      "outputs": [],
      "source": [
        "import requests\n",
        "import pandas as pd\n",
        "import json\n",
        "from random import randint\n",
        "import numpy as np\n",
        "import pickle\n",
        "import seaborn as sns\n",
        "import plotly.express as px\n",
        "import matplotlib.pyplot as plt\n",
        "%matplotlib inline\n",
        "import warnings\n",
        "warnings.filterwarnings('ignore')\n"
      ]
    },
    {
      "attachments": {},
      "cell_type": "markdown",
      "metadata": {},
      "source": [
        "#### Load Data"
      ]
    },
    {
      "cell_type": "code",
      "execution_count": null,
      "metadata": {
        "colab": {
          "base_uri": "https://localhost:8080/"
        },
        "id": "DbwtYIpB6__K",
        "outputId": "1592c9da-1a3b-41cd-cd66-3c94b6f07df5"
      },
      "outputs": [],
      "source": [
        "phone_df = pd.read_csv('phone_df.csv')\n",
        "phone_df.head()\n"
      ]
    },
    {
      "cell_type": "code",
      "execution_count": null,
      "metadata": {},
      "outputs": [],
      "source": [
        "phone_df.screen_size.unique()"
      ]
    },
    {
      "cell_type": "code",
      "execution_count": null,
      "metadata": {},
      "outputs": [],
      "source": [
        "phone_df.info()"
      ]
    },
    {
      "cell_type": "code",
      "execution_count": null,
      "metadata": {
        "colab": {
          "base_uri": "https://localhost:8080/",
          "height": 300
        },
        "id": "Baj7oHJB6__Q",
        "outputId": "6f5e721e-b073-4f6c-d502-82fe9b35444b"
      },
      "outputs": [],
      "source": [
        "phone_df.describe()"
      ]
    },
    {
      "cell_type": "markdown",
      "metadata": {
        "id": "vPEnixUz6__S"
      },
      "source": [
        "#### Exploratory Data Analysis"
      ]
    },
    {
      "cell_type": "markdown",
      "metadata": {
        "id": "hwhImQPL6__T"
      },
      "source": [
        "visualization to assess the relationship of independent features with the target variable Price"
      ]
    },
    {
      "cell_type": "code",
      "execution_count": null,
      "metadata": {
        "colab": {
          "base_uri": "https://localhost:8080/",
          "height": 637
        },
        "id": "J9xnVw3j6__U",
        "outputId": "2483f5b3-fedc-4b63-8368-0383743601e9"
      },
      "outputs": [],
      "source": [
        "# scatter plot of brand and price\n",
        "fig = px.scatter(phone_df, x='brand', y='price', opacity = 0.25, template = 'plotly_dark', \n",
        "                color='brand', hover_data=['brand', 'price'],title = 'PHONE PRICE PREDICTION (BRAND - PRICE RELATIONSHIP)')\n",
        "fig.update_layout(width=1000, height=600)\n",
        "fig.show()\n"
      ]
    },
    {
      "cell_type": "markdown",
      "metadata": {
        "id": "vJCQS1VI6__Y"
      },
      "source": [
        "visualization to assess the relationship of screen size with the target variable Price"
      ]
    },
    {
      "cell_type": "code",
      "execution_count": null,
      "metadata": {
        "colab": {
          "base_uri": "https://localhost:8080/",
          "height": 637
        },
        "id": "2l9_sbjy6__a",
        "outputId": "896ed527-08a9-4ddb-f793-5581c0d11844"
      },
      "outputs": [],
      "source": [
        "# scatter plot of screen_size and price\n",
        "fig = px.scatter(phone_df, x='screen_size', y='price', opacity = 0.25, template = 'plotly_dark', \n",
        "                color='screen_size', hover_data=['screen_size', 'price'],title = 'PHONE PRICE PREDICTION (SCREEN SIZE - PRICE RELATIONSHIP)')\n",
        "fig.update_layout(width=1000, height=600)\n",
        "fig.show()"
      ]
    },
    {
      "cell_type": "markdown",
      "metadata": {
        "id": "2qWUIKS76__c"
      },
      "source": [
        "visualization to assess the relationship of ram with the target variable Price"
      ]
    },
    {
      "cell_type": "code",
      "execution_count": null,
      "metadata": {
        "colab": {
          "base_uri": "https://localhost:8080/",
          "height": 637
        },
        "id": "y2llEkLf6__d",
        "outputId": "55b604ba-6857-43c7-cc57-b025d5378080"
      },
      "outputs": [],
      "source": [
        "# scatter plot of ram and price\n",
        "fig = px.scatter(phone_df, x='ram', y='price', opacity = 0.25, template = 'plotly_dark', \n",
        "                color='ram', hover_data=['ram', 'price'],title = 'PHONE PRICE PREDICTION (RAM - PRICE RELATIONSHIP)')\n",
        "fig.update_layout(width=1000, height=600)\n",
        "fig.show()"
      ]
    },
    {
      "cell_type": "markdown",
      "metadata": {
        "id": "whWbSdP26__e"
      },
      "source": [
        "visualization to assess the relationship of rom with the target variable Price"
      ]
    },
    {
      "cell_type": "code",
      "execution_count": null,
      "metadata": {
        "colab": {
          "base_uri": "https://localhost:8080/",
          "height": 637
        },
        "id": "lk672KRs6__g",
        "outputId": "490c075e-63a4-42a5-9bbc-b4fc309098f7"
      },
      "outputs": [],
      "source": [
        "# scatter plot of rom and price\n",
        "fig = px.scatter(phone_df, x='rom', y='price', opacity = 0.25, template = 'plotly_dark', \n",
        "                color='rom', hover_data=['rom', 'price'],title = 'PHONE PRICE PREDICTION (ROM - PRICE RELATIONSHIP)')\n",
        "fig.update_layout(width=1000, height=600)\n",
        "fig.show()"
      ]
    },
    {
      "cell_type": "markdown",
      "metadata": {
        "id": "xWBPdN_e6__h"
      },
      "source": [
        "visualization to assess the relationship of mp with the target variable Price"
      ]
    },
    {
      "cell_type": "code",
      "execution_count": null,
      "metadata": {
        "colab": {
          "base_uri": "https://localhost:8080/",
          "height": 637
        },
        "id": "POhWUGTP6__i",
        "outputId": "f59ef1f6-0d68-4872-a649-5c2465e7375c"
      },
      "outputs": [],
      "source": [
        "# scatter plot of mp and price\n",
        "fig = px.scatter(phone_df, x='mp', y='price', opacity = 0.25, template = 'plotly_dark', \n",
        "                color='mp', hover_data=['mp', 'price'],title = 'PHONE PRICE PREDICTION (MEGA PIXELS - PRICE RELATIONSHIP)')\n",
        "fig.update_layout(width=1000, height=600)\n",
        "fig.show()"
      ]
    },
    {
      "cell_type": "markdown",
      "metadata": {
        "id": "X2HLCvqV6__j"
      },
      "source": [
        "visualization to assess the relationship of mp with the target variable Price"
      ]
    },
    {
      "cell_type": "code",
      "execution_count": null,
      "metadata": {
        "colab": {
          "base_uri": "https://localhost:8080/",
          "height": 637
        },
        "id": "-zBL8rsk6__k",
        "outputId": "f671e97c-88eb-4e83-a7f0-400a551a22c4"
      },
      "outputs": [],
      "source": [
        "# scatter plot of battery and price\n",
        "fig = px.scatter(phone_df, x='battery', y='price', opacity = 0.25, template = 'plotly_dark', \n",
        "                color='battery', hover_data=['battery', 'price'],title = 'PHONE PRICE PREDICTION (BATTERY - PRICE RELATIONSHIP)')\n",
        "fig.update_layout(width=1000, height=600)\n",
        "fig.show()"
      ]
    },
    {
      "cell_type": "markdown",
      "metadata": {
        "id": "yJJshXh_6__l"
      },
      "source": [
        "#### Data Preprocessing"
      ]
    },
    {
      "cell_type": "markdown",
      "metadata": {
        "id": "_UW3Xoc76__o"
      },
      "source": [
        "Distribution of the Target Variable"
      ]
    },
    {
      "cell_type": "code",
      "execution_count": null,
      "metadata": {
        "colab": {
          "base_uri": "https://localhost:8080/",
          "height": 637
        },
        "id": "iOZ1pCt_6__p",
        "outputId": "ebdb4bea-bc5a-4b38-b22e-06ed297a9cf0"
      },
      "outputs": [],
      "source": [
        "fig = px.histogram(phone_df, x=[\"price\"], template = 'plotly_dark', title = 'Histogram of Price')\n",
        "fig.update_layout(width=1000, height=600)\n",
        "fig.show()"
      ]
    },
    {
      "cell_type": "markdown",
      "metadata": {
        "id": "NvhBqhoY6__q"
      },
      "source": [
        "Log Transform the Target (price)"
      ]
    },
    {
      "cell_type": "code",
      "execution_count": null,
      "metadata": {
        "colab": {
          "base_uri": "https://localhost:8080/",
          "height": 637
        },
        "id": "XO797Gfn6__s",
        "outputId": "6ce1eaf9-ca2f-4fd7-f681-d0f9352aafc9"
      },
      "outputs": [],
      "source": [
        "# create a copy of data\n",
        "data_copy = phone_df.copy()\n",
        "# create a new feature Log_Price\n",
        "data_copy['Log_Price'] = np.log(phone_df['price'])\n",
        "# plot histogram\n",
        "fig = px.histogram(data_copy, x=[\"Log_Price\"], title = 'Histgram of Log Price', template = 'plotly_dark')\n",
        "fig.update_layout(width=1000, height=600)\n",
        "fig.show()"
      ]
    },
    {
      "cell_type": "markdown",
      "metadata": {
        "id": "4Ry6mA1w6__t"
      },
      "source": [
        "Remove Outliers from the Target Column"
      ]
    },
    {
      "cell_type": "code",
      "execution_count": null,
      "metadata": {
        "colab": {
          "base_uri": "https://localhost:8080/",
          "height": 617
        },
        "id": "WduJ4P5s6__v",
        "outputId": "bbcbae43-67ac-4eb3-8d84-2be1e750f92c"
      },
      "outputs": [],
      "source": [
        "# Create a box plot of the 'Target' column to identify outliers\n",
        "fig = px.box(data_copy, y='Log_Price')\n",
        "fig.update_layout(width=800, height=600)\n",
        "fig.show()"
      ]
    },
    {
      "cell_type": "code",
      "execution_count": null,
      "metadata": {
        "colab": {
          "base_uri": "https://localhost:8080/",
          "height": 617
        },
        "id": "Ixe7_f5m6__w",
        "outputId": "194dc278-9a7b-40d4-dee8-72c1861529d8"
      },
      "outputs": [],
      "source": [
        "# Calculate the upper limit of outliers as the 97.5th percentile of the target column\n",
        "upper_limit = data_copy['Log_Price'].quantile(0.931)\n",
        "\n",
        "# Identify the upper outliers\n",
        "upper_outliers = data_copy[data_copy['Log_Price'] > upper_limit]\n",
        "\n",
        "# Remove the upper outliers from the dataset\n",
        "no_outlier = data_copy[~data_copy.index.isin(upper_outliers.index)]\n",
        "\n",
        "# Create a box plot of the 'Target' column to identify outliers\n",
        "fig = px.box(no_outlier, y='Log_Price')\n",
        "fig.update_layout(width=800, height=600)\n",
        "fig.show()"
      ]
    },
    {
      "cell_type": "code",
      "execution_count": null,
      "metadata": {
        "colab": {
          "base_uri": "https://localhost:8080/",
          "height": 206
        },
        "id": "zWj7Ofb86__z",
        "outputId": "7ca9a2c0-246e-43ac-e426-7e78a5fba251"
      },
      "outputs": [],
      "source": [
        "# No Outliers\n",
        "data = no_outlier\n",
        "data = no_outlier.drop(['price'], axis=1)\n",
        "data.head()"
      ]
    },
    {
      "cell_type": "code",
      "execution_count": null,
      "metadata": {
        "colab": {
          "base_uri": "https://localhost:8080/"
        },
        "id": "a33HqQoU6__0",
        "outputId": "c85e0625-09b0-47ed-a9f5-1d8521fcc562"
      },
      "outputs": [],
      "source": [
        "data.info()"
      ]
    },
    {
      "cell_type": "markdown",
      "metadata": {
        "id": "eQaZdryB6__4"
      },
      "source": [
        "visualization to assess outliers"
      ]
    },
    {
      "cell_type": "code",
      "execution_count": null,
      "metadata": {
        "colab": {
          "base_uri": "https://localhost:8080/",
          "height": 1000
        },
        "id": "wqd9K2GG6__5",
        "outputId": "13134296-1486-4b20-d12b-f6ccea763340"
      },
      "outputs": [],
      "source": [
        "# box Plot to visualize Outliers in the Feature Variables\n",
        "for var in ['screen_size', 'ram', 'rom', 'mp', 'battery']:\n",
        "    plt.figure(figsize=(14, 10))\n",
        "    plt.subplot(1, 2, 1)\n",
        "    fig = data.boxplot(column=var)\n",
        "    fig.set_ylabel(var)\n",
        "\n",
        "    plt.subplot(2, 2, 2)\n",
        "    fig = data[var].hist()\n",
        "    fig.set_xlabel(var)\n",
        "\n",
        "    plt.show()\n",
        "    "
      ]
    },
    {
      "cell_type": "code",
      "execution_count": null,
      "metadata": {
        "colab": {
          "base_uri": "https://localhost:8080/",
          "height": 592
        },
        "id": "zHGOVcqE6__7",
        "outputId": "c71cf6f1-9c11-4600-b68d-dc004cd55119"
      },
      "outputs": [],
      "source": [
        "# Calculate the upper and lower limit of outliers of the screen_size column\n",
        "upper_limit = data['screen_size'].quantile(0.89)\n",
        "lower_limit = data['screen_size'].quantile(0.1)\n",
        "\n",
        "# Identify the upper and lower outliers\n",
        "upper_outliers = data[data['screen_size'] > upper_limit]\n",
        "lower_outliers = data[data['screen_size'] < lower_limit]\n",
        "\n",
        "# Remove the upper and lower outliers from the dataset\n",
        "dataa = data[~data.index.isin(upper_outliers.index) & ~data.index.isin(lower_outliers.index) ]\n",
        "\n",
        "\n",
        "# Calculate the upper and lower limit of outliers of the battery column\n",
        "upper_limit = data['battery'].quantile(0.80)\n",
        "lower_limit = data['battery'].quantile(0.2)\n",
        "\n",
        "# Identify the upper and lower outliers\n",
        "upper_outliers = data[data['battery'] > upper_limit]\n",
        "lower_outliers = data[data['battery'] < lower_limit]\n",
        "\n",
        "# Remove the upper and lower outliers from the dataset\n",
        "dataaa = data[~data.index.isin(upper_outliers.index) & ~data.index.isin(lower_outliers.index) ]\n",
        "\n",
        "# Create a box plot of the 'screen_size' column to identify outliers\n",
        "for var in ['screen_size','battery']:\n",
        "    if var == 'screen_size':\n",
        "        plt.figure(figsize=(14, 10))\n",
        "        plt.subplot(1, 2, 1)\n",
        "        fig = dataa.boxplot(column=var)\n",
        "        fig.set_ylabel(var)\n",
        "\n",
        "    if var == 'battery':\n",
        "        plt.subplot(2, 2, 2)\n",
        "        fig = dataaa.boxplot(column=var)\n",
        "        fig.set_ylabel(var)\n",
        "\n",
        "        plt.show()"
      ]
    },
    {
      "cell_type": "code",
      "execution_count": null,
      "metadata": {
        "colab": {
          "base_uri": "https://localhost:8080/",
          "height": 206
        },
        "id": "dX9u16tA6__8",
        "outputId": "6d335b9a-a587-41c2-b865-7f8acc6a52ef"
      },
      "outputs": [],
      "source": [
        "data['screen_size'] = dataa['screen_size']\n",
        "data['battery'] = dataaa['battery']\n",
        "data.rename(columns={'Log_Price': 'price'}, inplace=True)\n",
        "\n",
        "data.head()"
      ]
    },
    {
      "cell_type": "code",
      "execution_count": null,
      "metadata": {
        "colab": {
          "base_uri": "https://localhost:8080/"
        },
        "id": "ovylLGNb6__-",
        "outputId": "a557b40d-5111-4bf9-f156-fecaf479a207"
      },
      "outputs": [],
      "source": [
        "data.info()"
      ]
    },
    {
      "cell_type": "code",
      "execution_count": null,
      "metadata": {
        "colab": {
          "base_uri": "https://localhost:8080/"
        },
        "id": "HQRoR0LH7AAA",
        "outputId": "6a02fd43-aaa5-4850-ed9c-3e6c395b25ad"
      },
      "outputs": [],
      "source": [
        "data.fillna(data.mean(), inplace=True)\n",
        "data.info()\n"
      ]
    },
    {
      "cell_type": "code",
      "execution_count": null,
      "metadata": {
        "colab": {
          "base_uri": "https://localhost:8080/",
          "height": 592
        },
        "id": "ccW6InYo7AAG",
        "outputId": "debefd38-cf82-4ec1-e68d-abe1b0363cb7"
      },
      "outputs": [],
      "source": [
        "for var in ['screen_size','battery']:\n",
        "    if var == 'screen_size':\n",
        "        plt.figure(figsize=(14, 10))\n",
        "        plt.subplot(1, 2, 1)\n",
        "        fig = data.boxplot(column=var)\n",
        "        fig.set_ylabel(var)\n",
        "\n",
        "    if var == 'battery':\n",
        "        plt.subplot(2, 2, 2)\n",
        "        fig = data.boxplot(column=var)\n",
        "        fig.set_ylabel(var)\n",
        "\n",
        "        plt.show()"
      ]
    },
    {
      "cell_type": "markdown",
      "metadata": {
        "id": "vJXsIv5Q7AAI"
      },
      "source": [
        "Visualize Correlation of the feature columns"
      ]
    },
    {
      "cell_type": "code",
      "execution_count": null,
      "metadata": {
        "colab": {
          "base_uri": "https://localhost:8080/",
          "height": 868
        },
        "id": "39qOjpW67AAJ",
        "outputId": "745b965d-e54a-4997-da9d-438a6085c54b"
      },
      "outputs": [],
      "source": [
        "# plot the scatter matrix\n",
        "sns.pairplot(data,  height=2, aspect=1)\n",
        "\n",
        "# show the plot\n",
        "plt.show()"
      ]
    },
    {
      "cell_type": "code",
      "execution_count": null,
      "metadata": {
        "colab": {
          "base_uri": "https://localhost:8080/",
          "height": 505
        },
        "id": "M4oP-gUN7AAL",
        "outputId": "e5109218-c046-445e-c823-e5f3cebc08cd"
      },
      "outputs": [],
      "source": [
        "plt.figure(figsize=(10, 8))\n",
        "sns.heatmap(data.corr().abs(),  annot=True)"
      ]
    },
    {
      "cell_type": "markdown",
      "metadata": {
        "id": "S9-vP1_C7AAM"
      },
      "source": [
        "#### Fiting models"
      ]
    },
    {
      "cell_type": "code",
      "execution_count": null,
      "metadata": {
        "colab": {
          "base_uri": "https://localhost:8080/"
        },
        "id": "OUQ1XjJ_7AAN",
        "outputId": "66f657ab-1025-45c3-c13e-7260cee536a8"
      },
      "outputs": [],
      "source": [
        "from sklearn.ensemble import RandomForestRegressor, BaggingRegressor, AdaBoostRegressor, GradientBoostingRegressor\n",
        "from sklearn.tree import DecisionTreeRegressor\n",
        "from sklearn.linear_model import LinearRegression, Ridge, Lasso, ElasticNetCV\n",
        "from sklearn.neighbors import KNeighborsRegressor\n",
        "from sklearn.preprocessing import StandardScaler, OneHotEncoder\n",
        "from sklearn.metrics import mean_absolute_error, mean_squared_error, r2_score, mean_squared_log_error\n",
        "from sklearn.model_selection import train_test_split, RandomizedSearchCV, GridSearchCV, cross_val_score, KFold\n",
        "from sklearn.compose import ColumnTransformer\n",
        "from sklearn.pipeline import Pipeline\n",
        "import pickle\n",
        "import os\n",
        "\n",
        "X = data.drop(['price', 'battery'], axis=1)\n",
        "y = data['price']\n",
        "\n",
        "categorical_cols = [col_names for col_names in X.columns if X[col_names].nunique() < 10 and X[col_names].dtype == 'object']\n",
        "numerical_cols = [col_names for col_names in X.columns if X[col_names].dtype in ['int64', 'float64']] \n",
        "\n",
        "# Processing of numerical data\n",
        "numerical_transformer = StandardScaler()\n",
        "\n",
        "# Processing of categorical data\n",
        "categorical_transformer = OneHotEncoder(categories='auto')\n",
        "\n",
        "# Bundle preprocessing for numerical and categorical data\n",
        "preprocessor = ColumnTransformer(\n",
        "    transformers=[\n",
        "        ('num', numerical_transformer, numerical_cols),\n",
        "        ('cat', categorical_transformer, categorical_cols)\n",
        "    ]\n",
        ")\n",
        "\n",
        "regular_reg = ElasticNetCV()\n",
        "dt_reg = DecisionTreeRegressor(random_state=1)\n",
        "bag_reg = BaggingRegressor(random_state=1)\n",
        "ab_reg = AdaBoostRegressor(random_state=1)\n",
        "kn_reg = KNeighborsRegressor()\n",
        "ridge = Ridge(random_state=1)\n",
        "l_reg = LinearRegression()\n",
        "gb_reg = GradientBoostingRegressor(random_state=1)\n",
        "\n",
        "models = {  'ElasticNetCV': regular_reg, \n",
        "            'DecisionTreeRegressor': dt_reg, \n",
        "            'BaggingRegressor': bag_reg, \n",
        "            'AdaBoostRegressor': ab_reg,\n",
        "            'KNeighborsRegressor': kn_reg,\n",
        "            'Ridge': ridge,\n",
        "            'LinearRegression': l_reg,\n",
        "            'GradientBoostingRegressor': gb_reg\n",
        "        }\n",
        "\n",
        "# Use the training and testing cross accuracy and divergence to identify the best model\n",
        "def score_performance(models, X, y, process='Training'):\n",
        "    print(f'Process; {process}')\n",
        "    for model_name, model in models.items():\n",
        "        # Using a pipline\n",
        "        my_pipeline = Pipeline(steps=[\n",
        "            ('preprocessor', preprocessor),\n",
        "            ('model', model)\n",
        "        ])\n",
        "        kf = KFold(n_splits=10)\n",
        "        scores = cross_val_score(my_pipeline, X, y, cv=5)\n",
        "        print(f'Model: {model_name}')\n",
        "        print(f'Cross validation mean score: {round(np.mean(scores), 4)}')\n",
        "        print(f'Cross validation std: {round(np.std(scores), 4)}')\n",
        "        print('\\n')\n",
        "\n",
        "# train_test_split \n",
        "X_train, X_test, y_train, y_test = train_test_split(X, y, test_size=0.2, random_state=42)\n",
        "\n",
        "# Train the models\n",
        "score_performance(models, X_train, y_train, process='Training')"
      ]
    },
    {
      "cell_type": "code",
      "execution_count": null,
      "metadata": {
        "colab": {
          "base_uri": "https://localhost:8080/"
        },
        "id": "KaOyDNaQ7AAR",
        "outputId": "ea7b297d-a797-43cc-f2d1-bb619628abe5"
      },
      "outputs": [],
      "source": [
        "np.random.seed(42)\n",
        "gb_reg = GradientBoostingRegressor(random_state=1)\n",
        "\n",
        "grid = {\"n_estimators\": [10, 100, 200, 500, 1000, 1200],\n",
        "        \"max_depth\": [None, 5, 10, 20, 30],\n",
        "        \"max_features\": [\"auto\", \"sqrt\"],\n",
        "        \"min_samples_split\": [2, 4, 6],\n",
        "        \"min_samples_leaf\": [1, 2, 4]}\n",
        "\n",
        "rscv = RandomizedSearchCV(estimator=gb_reg,\n",
        "                            param_distributions=grid,\n",
        "                            n_iter=20, # try 20 models total\n",
        "                            cv=5) # print out results\n",
        "\n",
        "my_pipeline = Pipeline(steps=[\n",
        "            ('preprocessor', preprocessor),\n",
        "            ('model', rscv)\n",
        "        ])\n",
        "\n",
        "# Fit the RandomizedSearchCV version of gb_reg\n",
        "my_pipeline.fit(X_train, y_train)"
      ]
    },
    {
      "cell_type": "code",
      "execution_count": null,
      "metadata": {
        "colab": {
          "base_uri": "https://localhost:8080/"
        },
        "id": "Y4mDWsvr7AAT",
        "outputId": "f05ca032-0372-4aa1-e317-a87b76cdd96e"
      },
      "outputs": [],
      "source": [
        "# Create evaluation function (the competition uses RMSLE)\n",
        "def rmsle(y_test, y_preds):\n",
        "    \"\"\"\n",
        "    Caculates root mean squared log error between predictions and\n",
        "    true labels.\n",
        "    \"\"\"\n",
        "    return np.sqrt(mean_squared_log_error(y_test, y_preds))\n",
        "    \n",
        "# Create function to evaluate model on a few different levels\n",
        "def show_scores(model):\n",
        "    train_preds = model.predict(X_train)\n",
        "    val_preds = model.predict(X_test)\n",
        "    scores = {\"Training MAE\": mean_absolute_error(y_train, train_preds),\n",
        "              \"Valid MAE\": mean_absolute_error(y_test, val_preds),\n",
        "              \"Training RMSLE\": rmsle(y_train, train_preds),\n",
        "              \"Valid RMSLE\": rmsle(y_test, val_preds),\n",
        "              \"Training R^2\": r2_score(y_train, train_preds),\n",
        "              \"Valid R^2\": r2_score(y_test, val_preds)}\n",
        "    return scores\n",
        "\n",
        "show_scores(my_pipeline)"
      ]
    },
    {
      "cell_type": "code",
      "execution_count": null,
      "metadata": {
        "colab": {
          "base_uri": "https://localhost:8080/"
        },
        "id": "lsWJpJAB7AAW",
        "outputId": "f62edfac-6804-4470-b7cb-5e302c1d2e16"
      },
      "outputs": [],
      "source": [
        "# Check the best hyperparameters found with GridSearchCV\n",
        "rscv.best_params_"
      ]
    },
    {
      "cell_type": "code",
      "execution_count": null,
      "metadata": {
        "colab": {
          "base_uri": "https://localhost:8080/"
        },
        "id": "eUd4v7k47AAX",
        "outputId": "6c4f88fa-e994-4310-f682-4e19dc446ef4"
      },
      "outputs": [],
      "source": [
        "ideal_model = GradientBoostingRegressor(n_estimators=100,\n",
        "                            min_samples_split=2,\n",
        "                            min_samples_leaf=2,\n",
        "                            max_features='sqrt',\n",
        "                            max_depth=None,\n",
        "                            random_state=42)\n",
        "\n",
        "# Using a pipline\n",
        "my_pipeline = Pipeline(steps=[\n",
        "    ('preprocessor', preprocessor),\n",
        "    ('model', ideal_model)\n",
        "])\n",
        "\n",
        "# Fit the ideal model\n",
        "my_pipeline.fit(X_train, y_train)"
      ]
    },
    {
      "cell_type": "code",
      "execution_count": null,
      "metadata": {
        "colab": {
          "base_uri": "https://localhost:8080/"
        },
        "id": "INzwFm297AAY",
        "outputId": "832c4ab9-6a05-42eb-f71c-0f97b753ec96"
      },
      "outputs": [],
      "source": [
        "show_scores(my_pipeline)"
      ]
    },
    {
      "cell_type": "code",
      "execution_count": null,
      "metadata": {
        "colab": {
          "base_uri": "https://localhost:8080/"
        },
        "id": "5LuMVJzk7AAZ",
        "outputId": "b65bb164-e7b7-4e01-af07-5485a608bbaf"
      },
      "outputs": [],
      "source": [
        "my_pipeline.score(X_test, y_test)"
      ]
    },
    {
      "cell_type": "markdown",
      "metadata": {
        "id": "HEn5W3_j7AAa"
      },
      "source": [
        "#### Save the model"
      ]
    },
    {
      "cell_type": "code",
      "execution_count": null,
      "metadata": {
        "id": "qlG0raWU7AAb"
      },
      "outputs": [],
      "source": [
        "# Saving and loading a model with pickle\n",
        "\n",
        "# Save an existing model to file\n",
        "pickle.dump(my_pipeline, open(\"phone_price_predictor.pkl\", \"wb\"))"
      ]
    },
    {
      "cell_type": "code",
      "execution_count": null,
      "metadata": {
        "id": "GRc4V9Nu7AAc"
      },
      "outputs": [],
      "source": []
    },
    {
      "cell_type": "code",
      "execution_count": null,
      "metadata": {
        "id": "FpkXXz327AAd"
      },
      "outputs": [],
      "source": []
    }
  ],
  "metadata": {
    "colab": {
      "provenance": []
    },
    "kernelspec": {
      "display_name": "Python 3",
      "language": "python",
      "name": "python3"
    },
    "language_info": {
      "codemirror_mode": {
        "name": "ipython",
        "version": 3
      },
      "file_extension": ".py",
      "mimetype": "text/x-python",
      "name": "python",
      "nbconvert_exporter": "python",
      "pygments_lexer": "ipython3",
      "version": "3.8.16"
    },
    "vscode": {
      "interpreter": {
        "hash": "6823027d7e29b41a4e6f28161e95b4dfbe0e8b9a6a7278f50ef7cf75c6459dbe"
      }
    }
  },
  "nbformat": 4,
  "nbformat_minor": 0
}

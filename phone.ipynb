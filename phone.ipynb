{
 "cells": [
  {
   "attachments": {},
   "cell_type": "markdown",
   "metadata": {},
   "source": [
    "#### Import necessary Libraries"
   ]
  },
  {
   "cell_type": "code",
   "execution_count": null,
   "metadata": {},
   "outputs": [],
   "source": [
    "import requests\n",
    "import pandas as pd\n",
    "import json\n",
    "from random import randint\n",
    "import numpy as np\n",
    "import pickle\n",
    "import seaborn as sns\n",
    "import plotly.express as px\n",
    "import matplotlib.pyplot as plt\n",
    "%matplotlib inline\n",
    "warnings.filterwarnings('ignore')\n",
    "import warnings\n",
    "\n"
   ]
  },
  {
   "attachments": {},
   "cell_type": "markdown",
   "metadata": {},
   "source": [
    "#### Load Data and clean the columns"
   ]
  },
  {
   "cell_type": "code",
   "execution_count": 160,
   "metadata": {},
   "outputs": [
    {
     "data": {
      "text/html": [
       "<div>\n",
       "<style scoped>\n",
       "    .dataframe tbody tr th:only-of-type {\n",
       "        vertical-align: middle;\n",
       "    }\n",
       "\n",
       "    .dataframe tbody tr th {\n",
       "        vertical-align: top;\n",
       "    }\n",
       "\n",
       "    .dataframe thead th {\n",
       "        text-align: right;\n",
       "    }\n",
       "</style>\n",
       "<table border=\"1\" class=\"dataframe\">\n",
       "  <thead>\n",
       "    <tr style=\"text-align: right;\">\n",
       "      <th></th>\n",
       "      <th>brand</th>\n",
       "      <th>screen_size</th>\n",
       "      <th>ram</th>\n",
       "      <th>rom</th>\n",
       "      <th>mp</th>\n",
       "      <th>battery</th>\n",
       "      <th>price</th>\n",
       "    </tr>\n",
       "  </thead>\n",
       "  <tbody>\n",
       "    <tr>\n",
       "      <th>0</th>\n",
       "      <td>Nokia</td>\n",
       "      <td>6.52</td>\n",
       "      <td>4</td>\n",
       "      <td>64</td>\n",
       "      <td>13</td>\n",
       "      <td>5050</td>\n",
       "      <td>402800</td>\n",
       "    </tr>\n",
       "    <tr>\n",
       "      <th>1</th>\n",
       "      <td>Samsung</td>\n",
       "      <td>6.60</td>\n",
       "      <td>4</td>\n",
       "      <td>64</td>\n",
       "      <td>50</td>\n",
       "      <td>5000</td>\n",
       "      <td>738000</td>\n",
       "    </tr>\n",
       "    <tr>\n",
       "      <th>2</th>\n",
       "      <td>Infinix</td>\n",
       "      <td>6.60</td>\n",
       "      <td>2</td>\n",
       "      <td>32</td>\n",
       "      <td>8</td>\n",
       "      <td>5000</td>\n",
       "      <td>580000</td>\n",
       "    </tr>\n",
       "    <tr>\n",
       "      <th>3</th>\n",
       "      <td>Tecno</td>\n",
       "      <td>6.60</td>\n",
       "      <td>4</td>\n",
       "      <td>64</td>\n",
       "      <td>13</td>\n",
       "      <td>5000</td>\n",
       "      <td>493960</td>\n",
       "    </tr>\n",
       "    <tr>\n",
       "      <th>4</th>\n",
       "      <td>Infinix</td>\n",
       "      <td>6.60</td>\n",
       "      <td>2</td>\n",
       "      <td>32</td>\n",
       "      <td>8</td>\n",
       "      <td>5000</td>\n",
       "      <td>340500</td>\n",
       "    </tr>\n",
       "  </tbody>\n",
       "</table>\n",
       "</div>"
      ],
      "text/plain": [
       "     brand  screen_size  ram  rom  mp  battery   price\n",
       "0    Nokia         6.52    4   64  13     5050  402800\n",
       "1  Samsung         6.60    4   64  50     5000  738000\n",
       "2  Infinix         6.60    2   32   8     5000  580000\n",
       "3    Tecno         6.60    4   64  13     5000  493960\n",
       "4  Infinix         6.60    2   32   8     5000  340500"
      ]
     },
     "execution_count": 160,
     "metadata": {},
     "output_type": "execute_result"
    }
   ],
   "source": [
    "df = pd.read_csv('C:/Users/bb/Desktop/Final Project/Jumiawebscrapper_db/Phones.csv')\n",
    "# df.info()\n",
    "\n",
    "product_df = pd.DataFrame()\n",
    "\n",
    "product_df['brand'] = df['product Names'].str[:4]\n",
    "product_df['screen size'] = df['product Names'].str[20:25]\n",
    "product_df['ram'] = df['product Names'].str[23:35]\n",
    "product_df['rom'] = df['product Names'].str[33:39]\n",
    "product_df['mp'] = df['product Names'].str[42:48]\n",
    "product_df['battery'] = df['product Names'].str[47:57]\n",
    "product_df['price'] = df[' Product Prices']\n",
    "\n",
    "new_product_df = product_df\n",
    "# new_product_df.head()\n",
    "\n",
    "product_df = pd.DataFrame()\n",
    "\n",
    "product_df['brand'] = df['product Names'].str[:4]\n",
    "product_df['screen size'] = df['product Names'].str[20:25]\n",
    "product_df['ram'] = df['product Names'].str[23:35]\n",
    "product_df['rom'] = df['product Names'].str[33:39]\n",
    "product_df['mp'] = df['product Names'].str[42:48]\n",
    "product_df['battery'] = df['product Names'].str[47:57]\n",
    "product_df['price'] = df[' Product Prices']\n",
    "\n",
    "new_product_df = product_df\n",
    "# new_product_df.head()\n",
    "\n",
    "# Clean the Brand Column\n",
    "new_product_df['brand'] = df['product Names'].str[:4]\n",
    "dislist = ['Noth', 'Mi P', 'Mi 1',\n",
    "       'Andr', 'Wire', 'H2 S', 'DZ09', 'LG V', 'Qiyi', 'Smal', 'Blue',\n",
    "       'Le N', 'X9 P', 'Orig', 'WIFI', 'GSM ', '2017', 'Tran', 'DB10',\n",
    "       'F1 W', '3 In', 'P2 W', 'Newe', '3.5m', 'Dz09', 'Y1 S', '1.8 ',\n",
    "       'U8 S', 'F5 W', '3G/W', 'A9 B', 'For ', 'Q18 ', 'QW09', 'Wris',\n",
    "       'Cell', '4G N', 'XR05', 'A96 ', 'A98 ', 'LCD ', 'Synt', 'G6 S',\n",
    "       'EX16', 'Supe', 'F26 ', 'W808', 'Fitn', 'Self', 'D8 S', '2018',\n",
    "       'Touc', 'A1 W', 'KZ P', 'Blac', 'A Se', 'X6 C', 'New ', 'Huaw',\n",
    "       'LG K', 'Smar', 'Goog', 'XIAO', 'One ', 'Airt', 'DUBY']\n",
    "for item in dislist:\n",
    "    dis = new_product_df[new_product_df['brand'] == item].index\n",
    "    new_product_df.drop(dis, inplace=True)\n",
    "\n",
    "new_product_df['brand'] = new_product_df['brand'].str.replace('Noki', 'Nokia')\n",
    "new_product_df['brand'] = new_product_df['brand'].str.replace('Sams', 'Samsung')\n",
    "new_product_df['brand'] = new_product_df['brand'].str.replace('Infi', 'Infinix')\n",
    "new_product_df['brand'] = new_product_df['brand'].str.replace('Tecn', 'Tecno')\n",
    "new_product_df['brand'] = new_product_df['brand'].str.replace('Redm', 'Redmi')\n",
    "new_product_df['brand'] = new_product_df['brand'].str.replace('Itel', 'Itel')\n",
    "new_product_df['brand'] = new_product_df['brand'].str.replace('Vivo', 'Vivo')\n",
    "new_product_df['brand'] = new_product_df['brand'].str.replace('Appl', 'Apple')\n",
    "new_product_df['brand'] = new_product_df['brand'].str.replace('Hise', 'Hisence')\n",
    "new_product_df['brand'] = new_product_df['brand'].str.replace('Oppo', 'Oppo')\n",
    "new_product_df['brand'] = new_product_df['brand'].str.replace('Moto', 'Motorola')\n",
    "new_product_df['brand'] = new_product_df['brand'].str.replace('Htc ', 'Htc')\n",
    "new_product_df['brand'] = new_product_df['brand'].str.replace('Real', 'Realme')\n",
    "\n",
    "\n",
    "# Clean the screen_size column\n",
    "new_product_df['screen size'] = df['product Names'].str[10:30]\n",
    "split_df = new_product_df['screen size'].str.split('\"', expand=True)[0]\n",
    "new_product_df['screen size'] = split_df.str[-4:]\n",
    "dislist = [' 4GB', ' 128', \n",
    "       '.71',  'M+25', 'B Du',\n",
    "       'AM 6', 'GB R', 'G 6.', 'a 5G', '64GB',\n",
    "       \"''12\", 'us 5', 'M+12',  'M+64', '6GB ', \n",
    "       'o - ', 'B RO',  ' Spa', '28gb', ' SIM', 'OM 5',\n",
    "        ' - 5', ' 64G', ' 2GB',  'M Du', 'ast ']\n",
    "for item in dislist:\n",
    "    dis = new_product_df[new_product_df['screen size'] == item].index\n",
    "    new_product_df.drop(dis, inplace=True)\n",
    "\n",
    "new_product_df['screen size'] = new_product_df['screen size'].str.replace(' ', '')\n",
    "\n",
    "\n",
    "# Clean the ram column\n",
    "new_product_df['ram'] = df['product Names'].str[10:50]\n",
    "new_product_df['ram'] = new_product_df['ram'].str.split('RAM', expand=True)[0].str[-4:]\n",
    "dislist = [ '000m', 'mAh ',\n",
    "       '0mAh', 'etFl', '64MP', 'e 16',  '6000', 't Wa',\n",
    "       'Quan', 'Sim ', '128 ', ' Cam', 'd-Wh', \"' - \", 'hite',\n",
    "       'amer', 'Spor', 't Fi', 'era ', 'tion', 'hone', ' &TF', '-Whi',\n",
    "       'th E', 'droi', 'Rate', 'e Bl', 'im C', ') HT', ' Red', 'ort ',\n",
    "       'SB T', 'ne F', 'ng N', 'lack', \"5'' \", 'rd C', 'ier ', ' Ban',\n",
    "       'IP68', 'Fitn', 'ns S', 'Scre', 'sure', 'SOS ', 'ppor', 'reen',\n",
    "       'put ', 'tch ', ' Wit', 'bile', 'itor', 'S Tr', 'S HT', ' Hea',\n",
    "       'cele', 'rt S', ' 4.0', 'Pink', ' Des', 'GPS ', 'mete', 'onit',\n",
    "       ' Wat', 'lver', 'lood', 'd & ', 'nt P', ' Sof', 'twat', 'r Ru',\n",
    "       'ng O', 'rpro', 'h Pe', 'rt P', ' Ped', 't Ra', 'Supp', 'Acti',\n",
    "       'll S', ' Tf ', 'atch', 'rd F', 'rics', 'dome', 'able', ' Mon',\n",
    "       'ony ', ' Rat', 'etoo', 'ls F', 'or S', 'en P', 'oid ']\n",
    "\n",
    "for item in dislist:\n",
    "    dis = new_product_df[new_product_df['ram'] == item].index\n",
    "    new_product_df.drop(dis, inplace=True)\n",
    "\n",
    "\n",
    "new_product_df['ram'] = new_product_df['ram'].str.replace(' ', '')\n",
    "new_product_df['ram'] = new_product_df['ram'].str.replace('GB', '')\n",
    "new_product_df['ram'] = new_product_df['ram'].str.replace('G', '')\n",
    "\n",
    "\n",
    "# Clean the rom column\n",
    "new_product_df['rom'] = df['product Names'].str[17:55]\n",
    "new_product_df['rom'] = new_product_df['rom'].str.split('ROM', expand=True)[0].str[-5:]\n",
    "dislist = [' - My', ' - Mi',\n",
    "       ' Came', 'M - B',  ' BLUE',  'Polar',\n",
    "       'Black', 'M) 50', ' LTE ', 'terna', 'ntern', 'ation', ' Gray',\n",
    "       ' Wate', ' Gold', 'onlig', 'M - M', ' Onyx', '5000m', 'lver.',\n",
    "       'M - G', 'M - c']\n",
    "for item in dislist:\n",
    "    dis = new_product_df[new_product_df['rom'] == item].index\n",
    "    new_product_df.drop(dis, inplace=True)\n",
    "\n",
    "new_product_df['rom'] = new_product_df['rom'].str.replace(' ', '')\n",
    "new_product_df['rom'] = new_product_df['rom'].str.replace('GB', '')\n",
    "\n",
    "\n",
    "# Clean the mega pixels column\n",
    "new_product_df['mp'] = df['product Names'].str[20:70]\n",
    "new_product_df['mp'] = new_product_df['mp'].str.split('MP', expand=True)[0].str[-2:]\n",
    "dislist = ['.0', 'en', '08', 'ay',\n",
    "       'ue', 'd.', 'er', 'ed', 'ck', 'Ri', 'UE', '4G',\n",
    "       'HT', 'me', 'ld',  'n ', ' V', 'on', 'Gr', 'te', 'ey', ' S',\n",
    "       'io', 'l ', ' 3', 'p ', 'd ', 'k ', 'OS', 'r ', 'ec', 'k.', 'id',\n",
    "       ' 9', 'Fa', 'E3', ' A', ' b', 'S ', 'in', 'is', 'ns', ' F', 'ce',\n",
    "       'at', 'an', 'th', 'h ', '-b', 'ut', 'ar', 'ra', 'nk', 'ud', 'yg',\n",
    "       'S.', 'US', ' P', 'Ca', 'y ', 'ge', 'k)', 'ss', ' o', 'Fo', '',\n",
    "       's ', 'ne', '5i', 'a ', 'le', 'ho', 'us', 'Sm', 'He', ' C']\n",
    "for item in dislist:\n",
    "    dis = new_product_df[new_product_df['mp'] == item].index\n",
    "    new_product_df.drop(dis, inplace=True)\n",
    "\n",
    "new_product_df['mp'] = new_product_df['mp'].str.replace(' ', '')\n",
    "\n",
    "\n",
    "# Clean the battery column\n",
    "new_product_df['battery'] = df['product Names'].str[20:70]\n",
    "new_product_df['battery'] = new_product_df['battery'].str.split('mAh', expand=True)[0].str[-5:]\n",
    "dislist = [' Blue',\n",
    "       'ilver', 'ebula', 'Green', 'om Bl', ' blue',\n",
    "       'Black', 'white', '- Sky', ' Grey',\n",
    "        'phite',\n",
    "       'White', 'ronze',\n",
    "       'phire', ' Gray', ' Cyan',\n",
    "       'Frost', 'ah 10','ne - ',\n",
    "       '- Red', 'Cloud', 'Cream', ' Silk', 'uster',\n",
    "       'ender', ' Gold', ' gray',\n",
    "       'erald', 'lives', ' Mint','lver.',\n",
    "       ' gold', 'ore 5', ' D530', \"000m\"]\n",
    "for item in dislist:\n",
    "    dis = new_product_df[new_product_df['battery'] == item].index\n",
    "    new_product_df.drop(dis, inplace=True)\n",
    "\n",
    "new_product_df['battery'] = new_product_df['battery'].str.replace(' ', '')\n",
    "new_product_df['battery'] = new_product_df['battery'].str.replace('-', '')\n",
    "\n",
    "\n",
    "# New DataFrame with cleaned columns\n",
    "phone_df = pd.DataFrame()\n",
    "phone_df['brand'] = new_product_df['brand']\n",
    "phone_df['screen_size'] = new_product_df['screen size']\n",
    "phone_df['ram'] = new_product_df['ram']\n",
    "phone_df['rom'] = new_product_df['rom']\n",
    "phone_df['mp'] = new_product_df['mp']\n",
    "phone_df['battery'] = new_product_df['battery']\n",
    "\n",
    "# Include the price column\n",
    "phone_df['price'] = new_product_df['price']\n",
    "\n",
    "# Change the column data types\n",
    "phone_df['brand'] = phone_df['brand'].astype('category')\n",
    "phone_df['screen_size'] = phone_df['screen_size'].astype(float)\n",
    "phone_df['ram'] = phone_df['ram'].astype(int)\n",
    "phone_df['rom'] = phone_df['rom'].astype(int)\n",
    "phone_df['mp'] = phone_df['mp'].astype(int)\n",
    "phone_df['battery'] = phone_df['battery'].astype(int)\n",
    "phone_df['price'] = phone_df['price'].astype(int)\n",
    "\n",
    "# Save clean dataset to a new csv\n",
    "phone_df.to_csv('phone_df.csv', index=False)\n",
    "\n",
    "phone_df = pd.read_csv('C:/Users/bb/Desktop/Final Project/Jumiawebscrapper_db/phone_df.csv')\n",
    "phone_df.head()"
   ]
  },
  {
   "cell_type": "code",
   "execution_count": null,
   "metadata": {},
   "outputs": [],
   "source": [
    "phone_df.info()"
   ]
  },
  {
   "cell_type": "code",
   "execution_count": null,
   "metadata": {},
   "outputs": [],
   "source": [
    "phone_df.describe()"
   ]
  },
  {
   "attachments": {},
   "cell_type": "markdown",
   "metadata": {},
   "source": [
    "#### Exploratory Data Analysis"
   ]
  },
  {
   "attachments": {},
   "cell_type": "markdown",
   "metadata": {},
   "source": [
    "visualization to assess the relationship of independent features with the target variable Price"
   ]
  },
  {
   "cell_type": "code",
   "execution_count": null,
   "metadata": {},
   "outputs": [],
   "source": [
    "# scatter plot of brand and price\n",
    "fig = px.scatter(phone_df, x='brand', y='price', opacity = 0.25, template = 'plotly_dark', \n",
    "                color='brand', hover_data=['brand', 'price'],title = 'PHONE PRICE PREDICTION (BRAND - PRICE RELATIONSHIP)')\n",
    "fig.update_layout(width=1000, height=600)\n",
    "fig.show()\n"
   ]
  },
  {
   "attachments": {},
   "cell_type": "markdown",
   "metadata": {},
   "source": [
    "visualization to assess the relationship of screen size with the target variable Price"
   ]
  },
  {
   "cell_type": "code",
   "execution_count": null,
   "metadata": {},
   "outputs": [],
   "source": [
    "# scatter plot of screen_size and price\n",
    "fig = px.scatter(phone_df, x='screen_size', y='price', opacity = 0.25, template = 'plotly_dark', \n",
    "                color='screen_size', hover_data=['screen_size', 'price'],title = 'PHONE PRICE PREDICTION (SCREEN SIZE - PRICE RELATIONSHIP)')\n",
    "fig.update_layout(width=1000, height=600)\n",
    "fig.show()"
   ]
  },
  {
   "attachments": {},
   "cell_type": "markdown",
   "metadata": {},
   "source": [
    "visualization to assess the relationship of ram with the target variable Price"
   ]
  },
  {
   "cell_type": "code",
   "execution_count": null,
   "metadata": {},
   "outputs": [],
   "source": [
    "# scatter plot of ram and price\n",
    "fig = px.scatter(phone_df, x='ram', y='price', opacity = 0.25, template = 'plotly_dark', \n",
    "                color='ram', hover_data=['ram', 'price'],title = 'PHONE PRICE PREDICTION (RAM - PRICE RELATIONSHIP)')\n",
    "fig.update_layout(width=1000, height=600)\n",
    "fig.show()"
   ]
  },
  {
   "attachments": {},
   "cell_type": "markdown",
   "metadata": {},
   "source": [
    "visualization to assess the relationship of rom with the target variable Price"
   ]
  },
  {
   "cell_type": "code",
   "execution_count": null,
   "metadata": {},
   "outputs": [],
   "source": [
    "# scatter plot of rom and price\n",
    "fig = px.scatter(phone_df, x='rom', y='price', opacity = 0.25, template = 'plotly_dark', \n",
    "                color='rom', hover_data=['rom', 'price'],title = 'PHONE PRICE PREDICTION (ROM - PRICE RELATIONSHIP)')\n",
    "fig.update_layout(width=1000, height=600)\n",
    "fig.show()"
   ]
  },
  {
   "attachments": {},
   "cell_type": "markdown",
   "metadata": {},
   "source": [
    "visualization to assess the relationship of mp with the target variable Price"
   ]
  },
  {
   "cell_type": "code",
   "execution_count": null,
   "metadata": {},
   "outputs": [],
   "source": [
    "# scatter plot of mp and price\n",
    "fig = px.scatter(phone_df, x='mp', y='price', opacity = 0.25, template = 'plotly_dark', \n",
    "                color='mp', hover_data=['mp', 'price'],title = 'PHONE PRICE PREDICTION (MEGA PIXELS - PRICE RELATIONSHIP)')\n",
    "fig.update_layout(width=1000, height=600)\n",
    "fig.show()"
   ]
  },
  {
   "attachments": {},
   "cell_type": "markdown",
   "metadata": {},
   "source": [
    "visualization to assess the relationship of mp with the target variable Price"
   ]
  },
  {
   "cell_type": "code",
   "execution_count": null,
   "metadata": {},
   "outputs": [],
   "source": [
    "# scatter plot of battery and price\n",
    "fig = px.scatter(phone_df, x='battery', y='price', opacity = 0.25, template = 'plotly_dark', \n",
    "                color='battery', hover_data=['battery', 'price'],title = 'PHONE PRICE PREDICTION (BATTERY - PRICE RELATIONSHIP)')\n",
    "fig.update_layout(width=1000, height=600)\n",
    "fig.show()"
   ]
  },
  {
   "attachments": {},
   "cell_type": "markdown",
   "metadata": {},
   "source": [
    "#### Data Preprocessing"
   ]
  },
  {
   "attachments": {},
   "cell_type": "markdown",
   "metadata": {},
   "source": [
    "Distribution of the Target Variable"
   ]
  },
  {
   "cell_type": "code",
   "execution_count": null,
   "metadata": {},
   "outputs": [],
   "source": [
    "fig = px.histogram(phone_df, x=[\"price\"], template = 'plotly_dark', title = 'Histogram of Price')\n",
    "fig.update_layout(width=1000, height=600)\n",
    "fig.show()"
   ]
  },
  {
   "attachments": {},
   "cell_type": "markdown",
   "metadata": {},
   "source": [
    "Log Transform the Target (price)"
   ]
  },
  {
   "cell_type": "code",
   "execution_count": null,
   "metadata": {},
   "outputs": [],
   "source": [
    "# create a copy of data\n",
    "data_copy = phone_df.copy()\n",
    "# create a new feature Log_Price\n",
    "data_copy['Log_Price'] = np.log(phone_df['price'])\n",
    "# plot histogram\n",
    "fig = px.histogram(data_copy, x=[\"Log_Price\"], title = 'Histgram of Log Price', template = 'plotly_dark')\n",
    "fig.update_layout(width=1000, height=600)\n",
    "fig.show()"
   ]
  },
  {
   "attachments": {},
   "cell_type": "markdown",
   "metadata": {},
   "source": [
    "Remove Outliers from the Target Column"
   ]
  },
  {
   "cell_type": "code",
   "execution_count": null,
   "metadata": {},
   "outputs": [],
   "source": [
    "# Create a box plot of the 'Target' column to identify outliers\n",
    "fig = px.box(data_copy, y='Log_Price')\n",
    "fig.update_layout(width=800, height=600)\n",
    "fig.show()"
   ]
  },
  {
   "cell_type": "code",
   "execution_count": null,
   "metadata": {},
   "outputs": [],
   "source": [
    "# Calculate the upper limit of outliers as the 97.5th percentile of the target column\n",
    "upper_limit = data_copy['Log_Price'].quantile(0.931)\n",
    "\n",
    "# Identify the upper outliers\n",
    "upper_outliers = data_copy[data_copy['Log_Price'] > upper_limit]\n",
    "\n",
    "# Remove the upper outliers from the dataset\n",
    "no_outlier = data_copy[~data_copy.index.isin(upper_outliers.index)]\n",
    "\n",
    "# Create a box plot of the 'Target' column to identify outliers\n",
    "fig = px.box(no_outlier, y='Log_Price')\n",
    "fig.update_layout(width=800, height=600)\n",
    "fig.show()"
   ]
  },
  {
   "cell_type": "code",
   "execution_count": null,
   "metadata": {},
   "outputs": [],
   "source": [
    "# No Outliers\n",
    "data = no_outlier\n",
    "data = no_outlier.drop(['price'], axis=1)\n",
    "data.head()"
   ]
  },
  {
   "cell_type": "code",
   "execution_count": null,
   "metadata": {},
   "outputs": [],
   "source": [
    "data.info()"
   ]
  },
  {
   "attachments": {},
   "cell_type": "markdown",
   "metadata": {},
   "source": [
    "Changing categorical variables to numbers"
   ]
  },
  {
   "cell_type": "code",
   "execution_count": null,
   "metadata": {},
   "outputs": [],
   "source": [
    "# Turn categorical variables into numbers and fill missing\n",
    "for label, content in data.items():\n",
    "    if not pd.api.types.is_numeric_dtype(content):\n",
    "        # Turn categories into numbers and add +1\n",
    "        data[label] = pd.Categorical(content).codes+1\n",
    "\n",
    "data.head()"
   ]
  },
  {
   "attachments": {},
   "cell_type": "markdown",
   "metadata": {},
   "source": [
    "visualization to assess outliers"
   ]
  },
  {
   "cell_type": "code",
   "execution_count": null,
   "metadata": {},
   "outputs": [],
   "source": [
    "# box Plot to visualize Outliers in the Feature Variables\n",
    "for var in ['brand', 'screen_size', 'ram', 'rom', 'mp', 'battery']:\n",
    "    plt.figure(figsize=(14, 10))\n",
    "    plt.subplot(1, 2, 1)\n",
    "    fig = data.boxplot(column=var)\n",
    "    fig.set_ylabel(var)\n",
    "\n",
    "    plt.subplot(2, 2, 2)\n",
    "    fig = data[var].hist()\n",
    "    fig.set_xlabel(var)\n",
    "\n",
    "    plt.show()\n",
    "    "
   ]
  },
  {
   "cell_type": "code",
   "execution_count": null,
   "metadata": {},
   "outputs": [],
   "source": [
    "# Calculate the upper and lower limit of outliers of the screen_size column\n",
    "upper_limit = data['screen_size'].quantile(0.89)\n",
    "lower_limit = data['screen_size'].quantile(0.1)\n",
    "\n",
    "# Identify the upper and lower outliers\n",
    "upper_outliers = data[data['screen_size'] > upper_limit]\n",
    "lower_outliers = data[data['screen_size'] < lower_limit]\n",
    "\n",
    "# Remove the upper and lower outliers from the dataset\n",
    "dataa = data[~data.index.isin(upper_outliers.index) & ~data.index.isin(lower_outliers.index) ]\n",
    "\n",
    "\n",
    "# Calculate the upper and lower limit of outliers of the battery column\n",
    "upper_limit = data['battery'].quantile(0.80)\n",
    "lower_limit = data['battery'].quantile(0.2)\n",
    "\n",
    "# Identify the upper and lower outliers\n",
    "upper_outliers = data[data['battery'] > upper_limit]\n",
    "lower_outliers = data[data['battery'] < lower_limit]\n",
    "\n",
    "# Remove the upper and lower outliers from the dataset\n",
    "dataaa = data[~data.index.isin(upper_outliers.index) & ~data.index.isin(lower_outliers.index) ]\n",
    "\n",
    "# Create a box plot of the 'screen_size' column to identify outliers\n",
    "for var in ['screen_size','battery']:\n",
    "    if var == 'screen_size':\n",
    "        plt.figure(figsize=(14, 10))\n",
    "        plt.subplot(1, 2, 1)\n",
    "        fig = dataa.boxplot(column=var)\n",
    "        fig.set_ylabel(var)\n",
    "\n",
    "    if var == 'battery':\n",
    "        plt.subplot(2, 2, 2)\n",
    "        fig = dataaa.boxplot(column=var)\n",
    "        fig.set_ylabel(var)\n",
    "\n",
    "        plt.show()"
   ]
  },
  {
   "cell_type": "code",
   "execution_count": null,
   "metadata": {},
   "outputs": [],
   "source": [
    "data['screen_size'] = dataa['screen_size']\n",
    "data['battery'] = dataaa['battery']\n",
    "data.rename(columns={'Log_Price': 'price'}, inplace=True)\n",
    "\n",
    "data.head()"
   ]
  },
  {
   "cell_type": "code",
   "execution_count": null,
   "metadata": {},
   "outputs": [],
   "source": [
    "data.info()"
   ]
  },
  {
   "cell_type": "code",
   "execution_count": null,
   "metadata": {},
   "outputs": [],
   "source": [
    "data.fillna(data.mean(), inplace=True)\n",
    "data.info()\n"
   ]
  },
  {
   "cell_type": "code",
   "execution_count": null,
   "metadata": {},
   "outputs": [],
   "source": [
    "for var in ['screen_size','battery']:\n",
    "    if var == 'screen_size':\n",
    "        plt.figure(figsize=(14, 10))\n",
    "        plt.subplot(1, 2, 1)\n",
    "        fig = data.boxplot(column=var)\n",
    "        fig.set_ylabel(var)\n",
    "\n",
    "    if var == 'battery':\n",
    "        plt.subplot(2, 2, 2)\n",
    "        fig = data.boxplot(column=var)\n",
    "        fig.set_ylabel(var)\n",
    "\n",
    "        plt.show()"
   ]
  },
  {
   "attachments": {},
   "cell_type": "markdown",
   "metadata": {},
   "source": [
    "Visualize Correlation of the feature columns"
   ]
  },
  {
   "cell_type": "code",
   "execution_count": null,
   "metadata": {},
   "outputs": [],
   "source": [
    "# plot the scatter matrix\n",
    "sns.pairplot(data,  height=2, aspect=1)\n",
    "\n",
    "# show the plot\n",
    "plt.show()"
   ]
  },
  {
   "cell_type": "code",
   "execution_count": null,
   "metadata": {},
   "outputs": [],
   "source": [
    "plt.figure(figsize=(10, 8))\n",
    "sns.heatmap(data.corr().abs(),  annot=True)"
   ]
  },
  {
   "attachments": {},
   "cell_type": "markdown",
   "metadata": {},
   "source": [
    "#### Fiting models"
   ]
  },
  {
   "cell_type": "code",
   "execution_count": null,
   "metadata": {},
   "outputs": [],
   "source": [
    "from sklearn.ensemble import RandomForestRegressor, BaggingRegressor, AdaBoostRegressor, GradientBoostingRegressor\n",
    "from sklearn.tree import DecisionTreeRegressor\n",
    "from sklearn.linear_model import LinearRegression, Ridge, Lasso, ElasticNet\n",
    "from sklearn.neighbors import KNeighborsRegressor\n",
    "from sklearn.preprocessing import StandardScaler\n",
    "from sklearn.metrics import mean_absolute_error, mean_squared_error, r2_score, mean_squared_log_error\n",
    "from sklearn.model_selection import train_test_split, RandomizedSearchCV, GridSearchCV, cross_val_score, KFold\n",
    "from sklearn.pipeline import Pipeline\n",
    "import pickle\n",
    "import os\n",
    "\n",
    "# Scale the features\n",
    "standard_scaler = StandardScaler()\n",
    "\n",
    "column_sels = ['brand', 'screen_size', 'ram', 'rom', 'mp', 'battery'] \n",
    "data[['brand', 'screen_size', 'ram', 'rom', 'mp', 'battery']] = standard_scaler.fit_transform(data[['brand', 'screen_size', 'ram', 'rom', 'mp', 'battery']])\n",
    "X = data.drop('price', axis=1)\n",
    "y = data['price']\n",
    "\n",
    "fig, axs = plt.subplots(ncols=4, nrows=2, figsize=(15, 10))\n",
    "index = 0\n",
    "axs = axs.flatten()\n",
    "for i, k in enumerate(column_sels):\n",
    "    sns.regplot(y=y, x=X[k], ax=axs[i])\n",
    "plt.show()"
   ]
  },
  {
   "cell_type": "code",
   "execution_count": null,
   "metadata": {},
   "outputs": [],
   "source": [
    "X_train, X_test, y_train, y_test = train_test_split(X, y, test_size=0.2, random_state=42)\n",
    "\n",
    "regular_reg = ElasticNetCV()\n",
    "dt_reg = DecisionTreeRegressor(random_state=1)\n",
    "bag_reg = BaggingRegressor(random_state=1)\n",
    "ab_reg = AdaBoostRegressor(random_state=1)\n",
    "kn_reg = KNeighborsRegressor()\n",
    "ridge = Ridge(random_state=1)\n",
    "l_reg = LinearRegression()\n",
    "gb_reg = GradientBoostingRegressor(random_state=1)\n",
    "\n",
    "models = {  'ElasticNetCV': regular_reg, \n",
    "            'DecisionTreeRegressor': dt_reg, \n",
    "            'BaggingRegressor': bag_reg, \n",
    "            'AdaBoostRegressor': ab_reg,\n",
    "            'KNeighborsRegressor': kn_reg,\n",
    "            'Ridge': ridge,\n",
    "            'LinearRegression': l_reg,\n",
    "            'GradientBoostingRegressor': gb_reg\n",
    "        }\n",
    "\n",
    "kf = KFold(n_splits=10)\n",
    "\n",
    "# Use the training and testing cross accuracy and divergence to identify the best model\n",
    "def score_performance(models, X, y, process='Training'):\n",
    "    print(f'Process; {process}')\n",
    "    for model_name, model in models.items():\n",
    "        scores = cross_val_score(model, X, y, cv=kf)\n",
    "        print(f'Model: {model_name}')\n",
    "        print(f'Cross validation mean score: {round(np.mean(scores), 4)}')\n",
    "        print(f'Cross validation std: {round(np.std(scores), 4)}')\n",
    "        print('\\n')\n",
    "\n",
    "# Train the models\n",
    "score_performance(models, X_train, y_train, process='Training')"
   ]
  },
  {
   "cell_type": "code",
   "execution_count": null,
   "metadata": {},
   "outputs": [],
   "source": [
    "\n",
    "np.random.seed(42)\n",
    "gb_reg = GradientBoostingRegressor(random_state=1)\n",
    "\n",
    "grid = {\"n_estimators\": [10, 100, 200, 500, 1000, 1200],\n",
    "        \"max_depth\": [None, 5, 10, 20, 30],\n",
    "        \"max_features\": [\"auto\", \"sqrt\"],\n",
    "        \"min_samples_split\": [2, 4, 6],\n",
    "        \"min_samples_leaf\": [1, 2, 4]}\n",
    "\n",
    "rscv = RandomizedSearchCV(estimator=gb_reg,\n",
    "                            param_distributions=grid,\n",
    "                            n_iter=20, # try 20 models total\n",
    "                            cv=5) # print out results\n",
    "\n",
    "# Fit the RandomizedSearchCV version of gb_reg\n",
    "rscv.fit(X_train, y_train)"
   ]
  },
  {
   "cell_type": "code",
   "execution_count": null,
   "metadata": {},
   "outputs": [],
   "source": [
    "# Create evaluation function (the competition uses RMSLE)\n",
    "def rmsle(y_test, y_preds):\n",
    "    \"\"\"\n",
    "    Caculates root mean squared log error between predictions and\n",
    "    true labels.\n",
    "    \"\"\"\n",
    "    return np.sqrt(mean_squared_log_error(y_test, y_preds))\n",
    "    \n",
    "# Create function to evaluate model on a few different levels\n",
    "def show_scores(model):\n",
    "    train_preds = model.predict(X_train)\n",
    "    val_preds = model.predict(X_test)\n",
    "    scores = {\"Training MAE\": mean_absolute_error(y_train, train_preds),\n",
    "              \"Valid MAE\": mean_absolute_error(y_test, val_preds),\n",
    "              \"Training RMSLE\": rmsle(y_train, train_preds),\n",
    "              \"Valid RMSLE\": rmsle(y_test, val_preds),\n",
    "              \"Training R^2\": r2_score(y_train, train_preds),\n",
    "              \"Valid R^2\": r2_score(y_test, val_preds)}\n",
    "    return scores"
   ]
  },
  {
   "cell_type": "code",
   "execution_count": null,
   "metadata": {},
   "outputs": [],
   "source": [
    "show_scores(rscv)"
   ]
  },
  {
   "cell_type": "code",
   "execution_count": null,
   "metadata": {},
   "outputs": [],
   "source": [
    "# Check the best hyperparameters found with GridSearchCV\n",
    "rscv.best_params_"
   ]
  },
  {
   "cell_type": "code",
   "execution_count": null,
   "metadata": {},
   "outputs": [],
   "source": [
    "ideal_model = GradientBoostingRegressor(n_estimators=100,\n",
    "                            min_samples_split=2,\n",
    "                            min_samples_leaf=2,\n",
    "                            max_features='sqrt',\n",
    "                            max_depth=None,\n",
    "                            random_state=42)\n",
    "# Fit the ideal model\n",
    "ideal_model.fit(X_train, y_train)"
   ]
  },
  {
   "cell_type": "code",
   "execution_count": null,
   "metadata": {},
   "outputs": [],
   "source": [
    "show_scores(ideal_model)"
   ]
  },
  {
   "cell_type": "code",
   "execution_count": null,
   "metadata": {},
   "outputs": [],
   "source": [
    "\n",
    "ideal_model.score(X_test, y_test)"
   ]
  },
  {
   "attachments": {},
   "cell_type": "markdown",
   "metadata": {},
   "source": [
    "#### Save the model"
   ]
  },
  {
   "cell_type": "code",
   "execution_count": null,
   "metadata": {},
   "outputs": [],
   "source": [
    "# Saving and loading a model with pickle\n",
    "\n",
    "# Save an existing model to file\n",
    "pickle.dump(ideal_model, open(\"phone_price_predictor.pkl\", \"wb\"))"
   ]
  },
  {
   "cell_type": "code",
   "execution_count": null,
   "metadata": {},
   "outputs": [],
   "source": []
  },
  {
   "cell_type": "code",
   "execution_count": null,
   "metadata": {},
   "outputs": [],
   "source": []
  }
 ],
 "metadata": {
  "kernelspec": {
   "display_name": "Python 3",
   "language": "python",
   "name": "python3"
  },
  "language_info": {
   "codemirror_mode": {
    "name": "ipython",
    "version": 3
   },
   "file_extension": ".py",
   "mimetype": "text/x-python",
   "name": "python",
   "nbconvert_exporter": "python",
   "pygments_lexer": "ipython3",
   "version": "3.10.4"
  },
  "vscode": {
   "interpreter": {
    "hash": "dd46d029e6b87c67f1bf5ffdd73e458b0e87787a1a93383bf22e9c92e9492836"
   }
  }
 },
 "nbformat": 4,
 "nbformat_minor": 4
}

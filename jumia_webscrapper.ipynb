{
 "cells": [
  {
   "cell_type": "code",
   "execution_count": null,
   "metadata": {},
   "outputs": [],
   "source": [
    "import requests\n",
    "import bs4\n",
    "import mysql.connector\n",
    "import pandas as pd\n",
    "import json\n",
    "from random import randint\n",
    "from time import sleep\n",
    "\n",
    "\n",
    "page = 1\n",
    "products = []\n",
    "prices = []\n",
    "while page != 21:\n",
    "    url = f\"https://www.jumia.ug/smartphones/?page={page}\"\n",
    "    url_data = requests.get(url)\n",
    "    html_content = bs4.BeautifulSoup(url_data.content)\n",
    "    all_items = html_content(\"article\", {\"class\":\"prd\"})\n",
    "    for item in all_items:\n",
    "        product_names = item.find(\"h3\", {\"class\":\"name\"})\n",
    "        product_prices = item.find(\"div\", {\"class\":\"prc\"})\n",
    "        try:\n",
    "            products.append(product_names.text.replace(\";\", \"\").replace(\",\", \"\").replace(\"[\",\"\").replace(\"]\",\"\")) \n",
    "            prices.append(int(product_prices.text.replace(\"UGX\", \"\").replace(\",\", \"\")))     \n",
    "        \n",
    "        except:\n",
    "            continue\n",
    "    page = page + 1\n",
    "    sleep(randint(2, 10))\n",
    "    file = open(\"Phones.csv\", \"w\", encoding='utf-8')\n",
    "    file.write(\"product Names, Product Prices\\n\")\n",
    "    for product, price in zip(products, prices):\n",
    "        product_prices = (price)\n",
    "        product_names = (product)\n",
    "    \n",
    "        file.write(f\"{product_names}, {product_prices}\\n\")\n",
    "    \n",
    "    file.close() "
   ]
  }
 ],
 "metadata": {
  "kernelspec": {
   "display_name": "Python 3 (ipykernel)",
   "language": "python",
   "name": "python3"
  },
  "orig_nbformat": 4
 },
 "nbformat": 4,
 "nbformat_minor": 2
}
